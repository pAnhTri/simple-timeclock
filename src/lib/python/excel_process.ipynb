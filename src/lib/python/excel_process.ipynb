{
 "cells": [
  {
   "cell_type": "code",
   "execution_count": 50,
   "id": "e3a21374",
   "metadata": {},
   "outputs": [],
   "source": [
    "import openpyxl\n",
    "import os\n",
    "import datetime"
   ]
  },
  {
   "cell_type": "code",
   "execution_count": null,
   "id": "85c5c983",
   "metadata": {},
   "outputs": [],
   "source": [
    "path_to_timesheet = os.path.join(os.getcwd(), \"RLG Timesheet.xlsx\")\n",
    "\n",
    "# Check if the file exists\n",
    "if not os.path.exists(path_to_timesheet):\n",
    "    print(f\"The file {path_to_timesheet} does not exist.\")"
   ]
  },
  {
   "cell_type": "code",
   "execution_count": 52,
   "id": "a254a263",
   "metadata": {},
   "outputs": [],
   "source": [
    "try:\n",
    "    workbook = openpyxl.load_workbook(path_to_timesheet)\n",
    "    worksheet = workbook.active\n",
    "\n",
    "except Exception as e:\n",
    "    print(f\"An error occurred: {e}\")\n"
   ]
  },
  {
   "cell_type": "code",
   "execution_count": 53,
   "id": "99d0154d",
   "metadata": {},
   "outputs": [],
   "source": [
    "today: datetime.date = datetime.date.today()\n",
    "pay_period_start: datetime.datetime = worksheet[\"N5\"].value\n",
    "pay_period_due: datetime.datetime = pay_period_start + datetime.timedelta(days=13)"
   ]
  },
  {
   "cell_type": "code",
   "execution_count": 54,
   "id": "fe9867a6",
   "metadata": {},
   "outputs": [
    {
     "name": "stdout",
     "output_type": "stream",
     "text": [
      "Today is within the pay period\n"
     ]
    }
   ],
   "source": [
    "\n",
    "def reset_cell_in_range(worksheet, range):\n",
    "    date_range = worksheet[range]\n",
    "\n",
    "    for row_of_cells in date_range:\n",
    "        for cell in row_of_cells:\n",
    "            cell.value = None\n",
    "\n",
    "# Reset cells if current date is after pay period due date\n",
    "if today > pay_period_due.date():\n",
    "    worksheet[\"N5\"] = pay_period_due + datetime.timedelta(days=1)\n",
    "\n",
    "    date_ranges = [\n",
    "        \"B12:E18\",\n",
    "        \"G12:J18\",\n",
    "        \"B20:E26\",\n",
    "        \"G20:J26\"\n",
    "    ]\n",
    "\n",
    "    for date_range in date_ranges:\n",
    "        reset_cell_in_range(worksheet, date_range)\n",
    "\n",
    "else:\n",
    "    print(\"Today is within the pay period\")"
   ]
  },
  {
   "cell_type": "code",
   "execution_count": 62,
   "id": "65447eb2",
   "metadata": {},
   "outputs": [],
   "source": [
    "def get_date_row_index(entry_date, pay_period_start: datetime.datetime):\n",
    "    offset = 0\n",
    "    days_from_start = (entry_date - pay_period_start.date()).days\n",
    "\n",
    "    if days_from_start >= 7:\n",
    "        offset = 1\n",
    "\n",
    "    return days_from_start % 14 + offset"
   ]
  },
  {
   "cell_type": "code",
   "execution_count": 64,
   "id": "06136ecc",
   "metadata": {},
   "outputs": [
    {
     "name": "stdout",
     "output_type": "stream",
     "text": [
      "12 2\n"
     ]
    }
   ],
   "source": [
    "start_row, start_column = worksheet[\"B12\"].row, worksheet[\"B12\"].column\n",
    "print(start_row, start_column)"
   ]
  }
 ],
 "metadata": {
  "kernelspec": {
   "display_name": ".venv",
   "language": "python",
   "name": "python3"
  },
  "language_info": {
   "codemirror_mode": {
    "name": "ipython",
    "version": 3
   },
   "file_extension": ".py",
   "mimetype": "text/x-python",
   "name": "python",
   "nbconvert_exporter": "python",
   "pygments_lexer": "ipython3",
   "version": "3.13.3"
  }
 },
 "nbformat": 4,
 "nbformat_minor": 5
}
